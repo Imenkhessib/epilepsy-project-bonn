{
  "nbformat": 4,
  "nbformat_minor": 0,
  "metadata": {
    "colab": {
      "provenance": []
    },
    "kernelspec": {
      "name": "python3",
      "display_name": "Python 3"
    },
    "language_info": {
      "name": "python"
    }
  },
  "cells": [
    {
      "cell_type": "code",
      "execution_count": null,
      "metadata": {
        "id": "oD2SRYVFR7Wo"
      },
      "outputs": [],
      "source": []
    },
    {
      "cell_type": "code",
      "source": [
        "from google.colab import drive\n",
        "drive.mount('/content/drive')"
      ],
      "metadata": {
        "id": "SwPLO9-TSB1G"
      },
      "execution_count": null,
      "outputs": []
    },
    {
      "cell_type": "code",
      "source": [
        "from scipy.io import loadmat\n",
        "import numpy as np\n",
        "from sklearn.preprocessing import StandardScaler, LabelEncoder\n",
        "from sklearn.model_selection import train_test_split\n",
        "from sklearn.metrics import accuracy_score, recall_score, f1_score\n",
        "from keras.models import Sequential\n",
        "from keras.layers import Dense, Dropout, Flatten\n",
        "from keras.optimizers import Adam"
      ],
      "metadata": {
        "id": "lryMnrdYVy2k"
      },
      "execution_count": null,
      "outputs": []
    },
    {
      "cell_type": "code",
      "source": [
        "def load_data_from_mat(file_path, key):\n",
        "    data = loadmat(file_path)\n",
        "    return data[key]\n"
      ],
      "metadata": {
        "id": "QhRe9OgaV1PG"
      },
      "execution_count": null,
      "outputs": []
    },
    {
      "cell_type": "code",
      "source": [
        "# Define paths and keys for each class\n",
        "file_info_dict = {\n",
        "    'A': [('/content/drive/MyDrive/emdvmd/VMDF.mat', 'IMFvmd1F')],\n",
        "    'B': [('/content/drive/MyDrive/emdvmd/VMDN.mat', 'IMFvmd1N')],\n",
        "    'C': [('/content/drive/MyDrive/emdvmd/VMDO.mat', 'IMFvmd1O')],\n",
        "    'D': [('/content/drive/MyDrive/emdvmd/VMDS.mat', 'IMFvmd1S')],\n",
        "    'E': [('/content/drive/MyDrive/emdvmd/VMDZ.mat', 'IMFvmd1Z')]\n",
        "}"
      ],
      "metadata": {
        "id": "lyvhLRDxV2m6"
      },
      "execution_count": null,
      "outputs": []
    },
    {
      "cell_type": "code",
      "source": [
        "def prepare_data_for_classification(classes):\n",
        "    X, y = [], []\n",
        "    for label, class_id in enumerate(classes):\n",
        "        file_info = file_info_dict[class_id]  # Get file paths and keys for each class\n",
        "        for file_path, key in file_info:\n",
        "            data = load_data_from_mat(file_path, key)\n",
        "            X.append(data)\n",
        "            y.append(np.array([label] * data.shape[0]))  # Assign the same label to all samples\n",
        "    X = np.concatenate(X)\n",
        "    y = np.concatenate(y)\n",
        "    return X, y\n"
      ],
      "metadata": {
        "id": "o5Sv2CQoV3nx"
      },
      "execution_count": null,
      "outputs": []
    },
    {
      "cell_type": "code",
      "source": [
        "def create_ann_model(input_shape, dense_units1, dense_units2, output_units, dropout_rate):\n",
        "    model = Sequential()\n",
        "    model.add(Dense(units=dense_units1, activation='relu', input_shape=(input_shape,)))\n",
        "    model.add(Dropout(rate=dropout_rate))\n",
        "    model.add(Dense(units=dense_units2, activation='relu'))\n",
        "    model.add(Dropout(rate=dropout_rate))\n",
        "    model.add(Dense(units=output_units, activation='softmax'))\n",
        "    model.compile(optimizer=Adam(learning_rate=0.001), loss='categorical_crossentropy', metrics=['accuracy'])\n",
        "    return model"
      ],
      "metadata": {
        "id": "aH6Z5AohV5Eb"
      },
      "execution_count": null,
      "outputs": []
    },
    {
      "cell_type": "code",
      "source": [
        "def compute_metrics(y_true, y_pred):\n",
        "    y_true = np.argmax(y_true, axis=1)\n",
        "    y_pred = np.argmax(y_pred, axis=1)\n",
        "    accuracy = accuracy_score(y_true, y_pred)\n",
        "    sensitivity = recall_score(y_true, y_pred, average='macro')\n",
        "    specificity = recall_score(y_true, y_pred, average='macro', labels=[0, 1])\n",
        "    f1 = f1_score(y_true, y_pred, average='macro')\n",
        "    return accuracy, sensitivity, specificity, f1"
      ],
      "metadata": {
        "id": "N8MHXG5tXOSd"
      },
      "execution_count": null,
      "outputs": []
    },
    {
      "cell_type": "code",
      "source": [
        "def train_and_evaluate_ann_model(X_train, y_train, X_test, y_test, dense_units1, dense_units2, dropout_rate, batch_size, epochs):\n",
        "    model = create_ann_model(X_train.shape[1], dense_units1, dense_units2, y_train.shape[1], dropout_rate)\n",
        "    history = model.fit(X_train, y_train, validation_split=0.2, epochs=epochs, batch_size=batch_size, verbose=1)\n",
        "    y_pred = model.predict(X_test)\n",
        "    score = model.evaluate(X_test, y_test, verbose=1)\n",
        "    accuracy, sensitivity, specificity, f1 = compute_metrics(y_test, y_pred)\n",
        "    print(f'Test loss: {score[0]}')\n",
        "    print(f'Test accuracy: {accuracy}')\n",
        "    print(f'Sensitivity (Recall): {sensitivity}')\n",
        "    print(f'Specificity: {specificity}')\n",
        "    print(f'F1 Score: {f1}')"
      ],
      "metadata": {
        "id": "VswXquWWXOy8"
      },
      "execution_count": null,
      "outputs": []
    },
    {
      "cell_type": "markdown",
      "source": [
        "Classification A-B vs. C-D-E"
      ],
      "metadata": {
        "id": "ii5t_8s6XrQu"
      }
    },
    {
      "cell_type": "code",
      "source": [
        "# Load and preprocess data for classes A-B vs. C-D-E\n",
        "classes_ab = ['A', 'B']\n",
        "classes_cde = ['C', 'D', 'E']\n",
        "\n",
        "X_ab, y_ab = prepare_data_for_classification(classes_ab)\n",
        "X_cde, y_cde = prepare_data_for_classification(classes_cde)\n",
        "\n",
        "# Merge and create new labels\n",
        "X = np.concatenate([X_ab, X_cde])\n",
        "y = np.concatenate([np.zeros(len(y_ab)), np.ones(len(y_cde))])  # 0 for A-B, 1 for C-D-E\n",
        "\n",
        "# Normalize the features\n",
        "scaler = StandardScaler()\n",
        "X = scaler.fit_transform(X)\n",
        "\n",
        "# Encode labels\n",
        "y = y.astype(int)  # Ensure labels are integers\n",
        "y = np.eye(len(np.unique(y)))[y]  # One-hot encode the labels\n",
        "\n",
        "# Split the data\n",
        "X_train, X_test, y_train, y_test = train_test_split(X, y, test_size=0.2, random_state=42)\n",
        "\n",
        "# Train and evaluate the ANN model\n",
        "train_and_evaluate_ann_model(X_train, y_train, X_test, y_test, dense_units1=128, dense_units2=64, dropout_rate=0.5, batch_size=32, epochs=20)"
      ],
      "metadata": {
        "colab": {
          "base_uri": "https://localhost:8080/"
        },
        "id": "PPCm_9-wXRfb",
        "outputId": "e206daed-16d0-4421-9152-97c0261ab2c8"
      },
      "execution_count": null,
      "outputs": [
        {
          "output_type": "stream",
          "name": "stderr",
          "text": [
            "/usr/local/lib/python3.10/dist-packages/keras/src/layers/core/dense.py:87: UserWarning: Do not pass an `input_shape`/`input_dim` argument to a layer. When using Sequential models, prefer using an `Input(shape)` object as the first layer in the model instead.\n",
            "  super().__init__(activity_regularizer=activity_regularizer, **kwargs)\n"
          ]
        },
        {
          "output_type": "stream",
          "name": "stdout",
          "text": [
            "Epoch 1/20\n",
            "\u001b[1m410/410\u001b[0m \u001b[32m━━━━━━━━━━━━━━━━━━━━\u001b[0m\u001b[37m\u001b[0m \u001b[1m3s\u001b[0m 3ms/step - accuracy: 0.6494 - loss: 0.5924 - val_accuracy: 0.9564 - val_loss: 0.2933\n",
            "Epoch 2/20\n",
            "\u001b[1m410/410\u001b[0m \u001b[32m━━━━━━━━━━━━━━━━━━━━\u001b[0m\u001b[37m\u001b[0m \u001b[1m3s\u001b[0m 4ms/step - accuracy: 0.9037 - loss: 0.2760 - val_accuracy: 0.9918 - val_loss: 0.0619\n",
            "Epoch 3/20\n",
            "\u001b[1m410/410\u001b[0m \u001b[32m━━━━━━━━━━━━━━━━━━━━\u001b[0m\u001b[37m\u001b[0m \u001b[1m2s\u001b[0m 2ms/step - accuracy: 0.9630 - loss: 0.1145 - val_accuracy: 0.9948 - val_loss: 0.0263\n",
            "Epoch 4/20\n",
            "\u001b[1m410/410\u001b[0m \u001b[32m━━━━━━━━━━━━━━━━━━━━\u001b[0m\u001b[37m\u001b[0m \u001b[1m1s\u001b[0m 2ms/step - accuracy: 0.9797 - loss: 0.0607 - val_accuracy: 0.9948 - val_loss: 0.0178\n",
            "Epoch 5/20\n",
            "\u001b[1m410/410\u001b[0m \u001b[32m━━━━━━━━━━━━━━━━━━━━\u001b[0m\u001b[37m\u001b[0m \u001b[1m1s\u001b[0m 2ms/step - accuracy: 0.9859 - loss: 0.0420 - val_accuracy: 0.9969 - val_loss: 0.0111\n",
            "Epoch 6/20\n",
            "\u001b[1m410/410\u001b[0m \u001b[32m━━━━━━━━━━━━━━━━━━━━\u001b[0m\u001b[37m\u001b[0m \u001b[1m1s\u001b[0m 2ms/step - accuracy: 0.9905 - loss: 0.0312 - val_accuracy: 0.9973 - val_loss: 0.0140\n",
            "Epoch 7/20\n",
            "\u001b[1m410/410\u001b[0m \u001b[32m━━━━━━━━━━━━━━━━━━━━\u001b[0m\u001b[37m\u001b[0m \u001b[1m1s\u001b[0m 2ms/step - accuracy: 0.9908 - loss: 0.0247 - val_accuracy: 0.9976 - val_loss: 0.0079\n",
            "Epoch 8/20\n",
            "\u001b[1m410/410\u001b[0m \u001b[32m━━━━━━━━━━━━━━━━━━━━\u001b[0m\u001b[37m\u001b[0m \u001b[1m1s\u001b[0m 2ms/step - accuracy: 0.9936 - loss: 0.0210 - val_accuracy: 0.9991 - val_loss: 0.0063\n",
            "Epoch 9/20\n",
            "\u001b[1m410/410\u001b[0m \u001b[32m━━━━━━━━━━━━━━━━━━━━\u001b[0m\u001b[37m\u001b[0m \u001b[1m1s\u001b[0m 2ms/step - accuracy: 0.9955 - loss: 0.0159 - val_accuracy: 0.9985 - val_loss: 0.0067\n",
            "Epoch 10/20\n",
            "\u001b[1m410/410\u001b[0m \u001b[32m━━━━━━━━━━━━━━━━━━━━\u001b[0m\u001b[37m\u001b[0m \u001b[1m1s\u001b[0m 2ms/step - accuracy: 0.9934 - loss: 0.0212 - val_accuracy: 0.9982 - val_loss: 0.0075\n",
            "Epoch 11/20\n",
            "\u001b[1m410/410\u001b[0m \u001b[32m━━━━━━━━━━━━━━━━━━━━\u001b[0m\u001b[37m\u001b[0m \u001b[1m1s\u001b[0m 2ms/step - accuracy: 0.9943 - loss: 0.0191 - val_accuracy: 0.9991 - val_loss: 0.0060\n",
            "Epoch 12/20\n",
            "\u001b[1m410/410\u001b[0m \u001b[32m━━━━━━━━━━━━━━━━━━━━\u001b[0m\u001b[37m\u001b[0m \u001b[1m1s\u001b[0m 3ms/step - accuracy: 0.9948 - loss: 0.0160 - val_accuracy: 0.9988 - val_loss: 0.0052\n",
            "Epoch 13/20\n",
            "\u001b[1m410/410\u001b[0m \u001b[32m━━━━━━━━━━━━━━━━━━━━\u001b[0m\u001b[37m\u001b[0m \u001b[1m1s\u001b[0m 3ms/step - accuracy: 0.9965 - loss: 0.0105 - val_accuracy: 0.9988 - val_loss: 0.0053\n",
            "Epoch 14/20\n",
            "\u001b[1m410/410\u001b[0m \u001b[32m━━━━━━━━━━━━━━━━━━━━\u001b[0m\u001b[37m\u001b[0m \u001b[1m2s\u001b[0m 2ms/step - accuracy: 0.9961 - loss: 0.0140 - val_accuracy: 0.9991 - val_loss: 0.0049\n",
            "Epoch 15/20\n",
            "\u001b[1m410/410\u001b[0m \u001b[32m━━━━━━━━━━━━━━━━━━━━\u001b[0m\u001b[37m\u001b[0m \u001b[1m1s\u001b[0m 2ms/step - accuracy: 0.9961 - loss: 0.0123 - val_accuracy: 0.9988 - val_loss: 0.0064\n",
            "Epoch 16/20\n",
            "\u001b[1m410/410\u001b[0m \u001b[32m━━━━━━━━━━━━━━━━━━━━\u001b[0m\u001b[37m\u001b[0m \u001b[1m1s\u001b[0m 2ms/step - accuracy: 0.9957 - loss: 0.0116 - val_accuracy: 0.9994 - val_loss: 0.0053\n",
            "Epoch 17/20\n",
            "\u001b[1m410/410\u001b[0m \u001b[32m━━━━━━━━━━━━━━━━━━━━\u001b[0m\u001b[37m\u001b[0m \u001b[1m1s\u001b[0m 2ms/step - accuracy: 0.9972 - loss: 0.0103 - val_accuracy: 0.9991 - val_loss: 0.0058\n",
            "Epoch 18/20\n",
            "\u001b[1m410/410\u001b[0m \u001b[32m━━━━━━━━━━━━━━━━━━━━\u001b[0m\u001b[37m\u001b[0m \u001b[1m1s\u001b[0m 2ms/step - accuracy: 0.9978 - loss: 0.0082 - val_accuracy: 0.9985 - val_loss: 0.0075\n",
            "Epoch 19/20\n",
            "\u001b[1m410/410\u001b[0m \u001b[32m━━━━━━━━━━━━━━━━━━━━\u001b[0m\u001b[37m\u001b[0m \u001b[1m1s\u001b[0m 2ms/step - accuracy: 0.9951 - loss: 0.0160 - val_accuracy: 0.9988 - val_loss: 0.0069\n",
            "Epoch 20/20\n",
            "\u001b[1m410/410\u001b[0m \u001b[32m━━━━━━━━━━━━━━━━━━━━\u001b[0m\u001b[37m\u001b[0m \u001b[1m1s\u001b[0m 2ms/step - accuracy: 0.9977 - loss: 0.0062 - val_accuracy: 0.9985 - val_loss: 0.0059\n",
            "\u001b[1m129/129\u001b[0m \u001b[32m━━━━━━━━━━━━━━━━━━━━\u001b[0m\u001b[37m\u001b[0m \u001b[1m0s\u001b[0m 1ms/step\n",
            "\u001b[1m129/129\u001b[0m \u001b[32m━━━━━━━━━━━━━━━━━━━━\u001b[0m\u001b[37m\u001b[0m \u001b[1m0s\u001b[0m 1ms/step - accuracy: 0.9996 - loss: 0.0017\n",
            "Test loss: 0.0033314297907054424\n",
            "Test accuracy: 0.9987795948254821\n",
            "Sensitivity (Recall): 0.9985736714885836\n",
            "Specificity: 0.9985736714885836\n",
            "F1 Score: 0.9987273638029215\n"
          ]
        }
      ]
    },
    {
      "cell_type": "markdown",
      "source": [
        "Classification A vs. E"
      ],
      "metadata": {
        "id": "Bq0yjrI8Xug9"
      }
    },
    {
      "cell_type": "code",
      "source": [
        "# Load and preprocess data for classes A vs. E\n",
        "classes_a = ['A']\n",
        "classes_e = ['E']\n",
        "\n",
        "X_a, y_a = prepare_data_for_classification(classes_a)\n",
        "X_e, y_e = prepare_data_for_classification(classes_e)\n",
        "\n",
        "# Merge and create new labels\n",
        "X = np.concatenate([X_a, X_e])\n",
        "y = np.concatenate([np.zeros(len(y_a)), np.ones(len(y_e))])  # 0 for A, 1 for E\n",
        "\n",
        "# Normalize the features\n",
        "scaler = StandardScaler()\n",
        "X = scaler.fit_transform(X)\n",
        "\n",
        "# Encode labels\n",
        "y = y.astype(int)\n",
        "y = np.eye(len(np.unique(y)))[y]  # One-hot encode the labels\n",
        "\n",
        "# Split the data\n",
        "X_train, X_test, y_train, y_test = train_test_split(X, y, test_size=0.2, random_state=42)\n",
        "\n",
        "# Train and evaluate the ANN model\n",
        "train_and_evaluate_ann_model(X_train, y_train, X_test, y_test, dense_units1=128, dense_units2=64, dropout_rate=0.5, batch_size=32, epochs=20)\n"
      ],
      "metadata": {
        "colab": {
          "base_uri": "https://localhost:8080/"
        },
        "id": "obORGch3XT3P",
        "outputId": "e4962c01-76c2-4555-9bd3-b4de3874c831"
      },
      "execution_count": null,
      "outputs": [
        {
          "output_type": "stream",
          "name": "stdout",
          "text": [
            "Epoch 1/20\n"
          ]
        },
        {
          "output_type": "stream",
          "name": "stderr",
          "text": [
            "/usr/local/lib/python3.10/dist-packages/keras/src/layers/core/dense.py:87: UserWarning: Do not pass an `input_shape`/`input_dim` argument to a layer. When using Sequential models, prefer using an `Input(shape)` object as the first layer in the model instead.\n",
            "  super().__init__(activity_regularizer=activity_regularizer, **kwargs)\n"
          ]
        },
        {
          "output_type": "stream",
          "name": "stdout",
          "text": [
            "\u001b[1m164/164\u001b[0m \u001b[32m━━━━━━━━━━━━━━━━━━━━\u001b[0m\u001b[37m\u001b[0m \u001b[1m4s\u001b[0m 6ms/step - accuracy: 0.5353 - loss: 0.8478 - val_accuracy: 0.8391 - val_loss: 0.5584\n",
            "Epoch 2/20\n",
            "\u001b[1m164/164\u001b[0m \u001b[32m━━━━━━━━━━━━━━━━━━━━\u001b[0m\u001b[37m\u001b[0m \u001b[1m1s\u001b[0m 3ms/step - accuracy: 0.6957 - loss: 0.5796 - val_accuracy: 0.9458 - val_loss: 0.3801\n",
            "Epoch 3/20\n",
            "\u001b[1m164/164\u001b[0m \u001b[32m━━━━━━━━━━━━━━━━━━━━\u001b[0m\u001b[37m\u001b[0m \u001b[1m1s\u001b[0m 2ms/step - accuracy: 0.8271 - loss: 0.3931 - val_accuracy: 0.9794 - val_loss: 0.1792\n",
            "Epoch 4/20\n",
            "\u001b[1m164/164\u001b[0m \u001b[32m━━━━━━━━━━━━━━━━━━━━\u001b[0m\u001b[37m\u001b[0m \u001b[1m1s\u001b[0m 2ms/step - accuracy: 0.8920 - loss: 0.2660 - val_accuracy: 0.9916 - val_loss: 0.0850\n",
            "Epoch 5/20\n",
            "\u001b[1m164/164\u001b[0m \u001b[32m━━━━━━━━━━━━━━━━━━━━\u001b[0m\u001b[37m\u001b[0m \u001b[1m1s\u001b[0m 2ms/step - accuracy: 0.9405 - loss: 0.1635 - val_accuracy: 0.9954 - val_loss: 0.0423\n",
            "Epoch 6/20\n",
            "\u001b[1m164/164\u001b[0m \u001b[32m━━━━━━━━━━━━━━━━━━━━\u001b[0m\u001b[37m\u001b[0m \u001b[1m1s\u001b[0m 4ms/step - accuracy: 0.9625 - loss: 0.1028 - val_accuracy: 0.9962 - val_loss: 0.0242\n",
            "Epoch 7/20\n",
            "\u001b[1m164/164\u001b[0m \u001b[32m━━━━━━━━━━━━━━━━━━━━\u001b[0m\u001b[37m\u001b[0m \u001b[1m1s\u001b[0m 3ms/step - accuracy: 0.9791 - loss: 0.0725 - val_accuracy: 0.9969 - val_loss: 0.0169\n",
            "Epoch 8/20\n",
            "\u001b[1m164/164\u001b[0m \u001b[32m━━━━━━━━━━━━━━━━━━━━\u001b[0m\u001b[37m\u001b[0m \u001b[1m1s\u001b[0m 4ms/step - accuracy: 0.9802 - loss: 0.0605 - val_accuracy: 0.9977 - val_loss: 0.0113\n",
            "Epoch 9/20\n",
            "\u001b[1m164/164\u001b[0m \u001b[32m━━━━━━━━━━━━━━━━━━━━\u001b[0m\u001b[37m\u001b[0m \u001b[1m2s\u001b[0m 6ms/step - accuracy: 0.9839 - loss: 0.0441 - val_accuracy: 0.9985 - val_loss: 0.0071\n",
            "Epoch 10/20\n",
            "\u001b[1m164/164\u001b[0m \u001b[32m━━━━━━━━━━━━━━━━━━━━\u001b[0m\u001b[37m\u001b[0m \u001b[1m1s\u001b[0m 4ms/step - accuracy: 0.9860 - loss: 0.0389 - val_accuracy: 0.9985 - val_loss: 0.0058\n",
            "Epoch 11/20\n",
            "\u001b[1m164/164\u001b[0m \u001b[32m━━━━━━━━━━━━━━━━━━━━\u001b[0m\u001b[37m\u001b[0m \u001b[1m1s\u001b[0m 4ms/step - accuracy: 0.9895 - loss: 0.0372 - val_accuracy: 0.9992 - val_loss: 0.0047\n",
            "Epoch 12/20\n",
            "\u001b[1m164/164\u001b[0m \u001b[32m━━━━━━━━━━━━━━━━━━━━\u001b[0m\u001b[37m\u001b[0m \u001b[1m1s\u001b[0m 2ms/step - accuracy: 0.9870 - loss: 0.0369 - val_accuracy: 0.9992 - val_loss: 0.0041\n",
            "Epoch 13/20\n",
            "\u001b[1m164/164\u001b[0m \u001b[32m━━━━━━━━━━━━━━━━━━━━\u001b[0m\u001b[37m\u001b[0m \u001b[1m1s\u001b[0m 2ms/step - accuracy: 0.9936 - loss: 0.0226 - val_accuracy: 0.9992 - val_loss: 0.0031\n",
            "Epoch 14/20\n",
            "\u001b[1m164/164\u001b[0m \u001b[32m━━━━━━━━━━━━━━━━━━━━\u001b[0m\u001b[37m\u001b[0m \u001b[1m1s\u001b[0m 2ms/step - accuracy: 0.9916 - loss: 0.0227 - val_accuracy: 0.9992 - val_loss: 0.0032\n",
            "Epoch 15/20\n",
            "\u001b[1m164/164\u001b[0m \u001b[32m━━━━━━━━━━━━━━━━━━━━\u001b[0m\u001b[37m\u001b[0m \u001b[1m1s\u001b[0m 2ms/step - accuracy: 0.9932 - loss: 0.0229 - val_accuracy: 0.9992 - val_loss: 0.0030\n",
            "Epoch 16/20\n",
            "\u001b[1m164/164\u001b[0m \u001b[32m━━━━━━━━━━━━━━━━━━━━\u001b[0m\u001b[37m\u001b[0m \u001b[1m1s\u001b[0m 2ms/step - accuracy: 0.9950 - loss: 0.0184 - val_accuracy: 1.0000 - val_loss: 0.0019\n",
            "Epoch 17/20\n",
            "\u001b[1m164/164\u001b[0m \u001b[32m━━━━━━━━━━━━━━━━━━━━\u001b[0m\u001b[37m\u001b[0m \u001b[1m0s\u001b[0m 2ms/step - accuracy: 0.9957 - loss: 0.0155 - val_accuracy: 1.0000 - val_loss: 0.0023\n",
            "Epoch 18/20\n",
            "\u001b[1m164/164\u001b[0m \u001b[32m━━━━━━━━━━━━━━━━━━━━\u001b[0m\u001b[37m\u001b[0m \u001b[1m0s\u001b[0m 2ms/step - accuracy: 0.9949 - loss: 0.0163 - val_accuracy: 0.9992 - val_loss: 0.0019\n",
            "Epoch 19/20\n",
            "\u001b[1m164/164\u001b[0m \u001b[32m━━━━━━━━━━━━━━━━━━━━\u001b[0m\u001b[37m\u001b[0m \u001b[1m1s\u001b[0m 2ms/step - accuracy: 0.9949 - loss: 0.0146 - val_accuracy: 1.0000 - val_loss: 0.0016\n",
            "Epoch 20/20\n",
            "\u001b[1m164/164\u001b[0m \u001b[32m━━━━━━━━━━━━━━━━━━━━\u001b[0m\u001b[37m\u001b[0m \u001b[1m0s\u001b[0m 2ms/step - accuracy: 0.9969 - loss: 0.0136 - val_accuracy: 1.0000 - val_loss: 0.0013\n",
            "\u001b[1m52/52\u001b[0m \u001b[32m━━━━━━━━━━━━━━━━━━━━\u001b[0m\u001b[37m\u001b[0m \u001b[1m0s\u001b[0m 3ms/step\n",
            "\u001b[1m52/52\u001b[0m \u001b[32m━━━━━━━━━━━━━━━━━━━━\u001b[0m\u001b[37m\u001b[0m \u001b[1m0s\u001b[0m 2ms/step - accuracy: 1.0000 - loss: 9.8098e-04\n",
            "Test loss: 0.0013903726357966661\n",
            "Test accuracy: 1.0\n",
            "Sensitivity (Recall): 1.0\n",
            "Specificity: 1.0\n",
            "F1 Score: 1.0\n"
          ]
        }
      ]
    },
    {
      "cell_type": "markdown",
      "source": [
        "Classification B vs. E"
      ],
      "metadata": {
        "id": "FM9_qWMjX6V8"
      }
    },
    {
      "cell_type": "code",
      "source": [
        "# Load and preprocess data for classes B vs. E\n",
        "classes_b = ['B']\n",
        "classes_e = ['E']\n",
        "\n",
        "X_b, y_b = prepare_data_for_classification(classes_b)\n",
        "X_e, y_e = prepare_data_for_classification(classes_e)\n",
        "\n",
        "# Merge and create new labels\n",
        "X = np.concatenate([X_b, X_e])\n",
        "y = np.concatenate([np.zeros(len(y_b)), np.ones(len(y_e))])  # 0 for B, 1 for E\n",
        "\n",
        "# Normalize the features\n",
        "scaler = StandardScaler()\n",
        "X = scaler.fit_transform(X)\n",
        "\n",
        "# Encode labels\n",
        "y = y.astype(int)\n",
        "y = np.eye(len(np.unique(y)))[y]  # One-hot encode the labels\n",
        "\n",
        "# Split the data\n",
        "X_train, X_test, y_train, y_test = train_test_split(X, y, test_size=0.2, random_state=42)\n",
        "\n",
        "# Train and evaluate the ANN model\n",
        "train_and_evaluate_ann_model(X_train, y_train, X_test, y_test, dense_units1=128, dense_units2=64, dropout_rate=0.5, batch_size=32, epochs=20)\n"
      ],
      "metadata": {
        "colab": {
          "base_uri": "https://localhost:8080/"
        },
        "id": "bgVdcBboX1eN",
        "outputId": "de975579-23e1-4c2e-82c5-99ca4bdf455b"
      },
      "execution_count": null,
      "outputs": [
        {
          "output_type": "stream",
          "name": "stderr",
          "text": [
            "/usr/local/lib/python3.10/dist-packages/keras/src/layers/core/dense.py:87: UserWarning: Do not pass an `input_shape`/`input_dim` argument to a layer. When using Sequential models, prefer using an `Input(shape)` object as the first layer in the model instead.\n",
            "  super().__init__(activity_regularizer=activity_regularizer, **kwargs)\n"
          ]
        },
        {
          "output_type": "stream",
          "name": "stdout",
          "text": [
            "Epoch 1/20\n",
            "\u001b[1m164/164\u001b[0m \u001b[32m━━━━━━━━━━━━━━━━━━━━\u001b[0m\u001b[37m\u001b[0m \u001b[1m7s\u001b[0m 8ms/step - accuracy: 0.5255 - loss: 0.8772 - val_accuracy: 0.8078 - val_loss: 0.5780\n",
            "Epoch 2/20\n",
            "\u001b[1m164/164\u001b[0m \u001b[32m━━━━━━━━━━━━━━━━━━━━\u001b[0m\u001b[37m\u001b[0m \u001b[1m2s\u001b[0m 5ms/step - accuracy: 0.6650 - loss: 0.6002 - val_accuracy: 0.9314 - val_loss: 0.4507\n",
            "Epoch 3/20\n",
            "\u001b[1m164/164\u001b[0m \u001b[32m━━━━━━━━━━━━━━━━━━━━\u001b[0m\u001b[37m\u001b[0m \u001b[1m1s\u001b[0m 4ms/step - accuracy: 0.7931 - loss: 0.4489 - val_accuracy: 0.9817 - val_loss: 0.2246\n",
            "Epoch 4/20\n",
            "\u001b[1m164/164\u001b[0m \u001b[32m━━━━━━━━━━━━━━━━━━━━\u001b[0m\u001b[37m\u001b[0m \u001b[1m1s\u001b[0m 4ms/step - accuracy: 0.8896 - loss: 0.2757 - val_accuracy: 0.9992 - val_loss: 0.0734\n",
            "Epoch 5/20\n",
            "\u001b[1m164/164\u001b[0m \u001b[32m━━━━━━━━━━━━━━━━━━━━\u001b[0m\u001b[37m\u001b[0m \u001b[1m1s\u001b[0m 2ms/step - accuracy: 0.9376 - loss: 0.1716 - val_accuracy: 1.0000 - val_loss: 0.0310\n",
            "Epoch 6/20\n",
            "\u001b[1m164/164\u001b[0m \u001b[32m━━━━━━━━━━━━━━━━━━━━\u001b[0m\u001b[37m\u001b[0m \u001b[1m0s\u001b[0m 2ms/step - accuracy: 0.9596 - loss: 0.1147 - val_accuracy: 1.0000 - val_loss: 0.0137\n",
            "Epoch 7/20\n",
            "\u001b[1m164/164\u001b[0m \u001b[32m━━━━━━━━━━━━━━━━━━━━\u001b[0m\u001b[37m\u001b[0m \u001b[1m1s\u001b[0m 4ms/step - accuracy: 0.9748 - loss: 0.0780 - val_accuracy: 1.0000 - val_loss: 0.0081\n",
            "Epoch 8/20\n",
            "\u001b[1m164/164\u001b[0m \u001b[32m━━━━━━━━━━━━━━━━━━━━\u001b[0m\u001b[37m\u001b[0m \u001b[1m1s\u001b[0m 3ms/step - accuracy: 0.9801 - loss: 0.0607 - val_accuracy: 1.0000 - val_loss: 0.0057\n",
            "Epoch 9/20\n",
            "\u001b[1m164/164\u001b[0m \u001b[32m━━━━━━━━━━━━━━━━━━━━\u001b[0m\u001b[37m\u001b[0m \u001b[1m1s\u001b[0m 4ms/step - accuracy: 0.9865 - loss: 0.0481 - val_accuracy: 1.0000 - val_loss: 0.0038\n",
            "Epoch 10/20\n",
            "\u001b[1m164/164\u001b[0m \u001b[32m━━━━━━━━━━━━━━━━━━━━\u001b[0m\u001b[37m\u001b[0m \u001b[1m1s\u001b[0m 2ms/step - accuracy: 0.9913 - loss: 0.0342 - val_accuracy: 1.0000 - val_loss: 0.0024\n",
            "Epoch 11/20\n",
            "\u001b[1m164/164\u001b[0m \u001b[32m━━━━━━━━━━━━━━━━━━━━\u001b[0m\u001b[37m\u001b[0m \u001b[1m1s\u001b[0m 2ms/step - accuracy: 0.9944 - loss: 0.0210 - val_accuracy: 1.0000 - val_loss: 0.0022\n",
            "Epoch 12/20\n",
            "\u001b[1m164/164\u001b[0m \u001b[32m━━━━━━━━━━━━━━━━━━━━\u001b[0m\u001b[37m\u001b[0m \u001b[1m1s\u001b[0m 2ms/step - accuracy: 0.9933 - loss: 0.0210 - val_accuracy: 1.0000 - val_loss: 0.0011\n",
            "Epoch 13/20\n",
            "\u001b[1m164/164\u001b[0m \u001b[32m━━━━━━━━━━━━━━━━━━━━\u001b[0m\u001b[37m\u001b[0m \u001b[1m0s\u001b[0m 2ms/step - accuracy: 0.9930 - loss: 0.0301 - val_accuracy: 1.0000 - val_loss: 0.0013\n",
            "Epoch 14/20\n",
            "\u001b[1m164/164\u001b[0m \u001b[32m━━━━━━━━━━━━━━━━━━━━\u001b[0m\u001b[37m\u001b[0m \u001b[1m1s\u001b[0m 2ms/step - accuracy: 0.9928 - loss: 0.0257 - val_accuracy: 1.0000 - val_loss: 0.0013\n",
            "Epoch 15/20\n",
            "\u001b[1m164/164\u001b[0m \u001b[32m━━━━━━━━━━━━━━━━━━━━\u001b[0m\u001b[37m\u001b[0m \u001b[1m0s\u001b[0m 3ms/step - accuracy: 0.9930 - loss: 0.0260 - val_accuracy: 1.0000 - val_loss: 0.0012\n",
            "Epoch 16/20\n",
            "\u001b[1m164/164\u001b[0m \u001b[32m━━━━━━━━━━━━━━━━━━━━\u001b[0m\u001b[37m\u001b[0m \u001b[1m1s\u001b[0m 6ms/step - accuracy: 0.9954 - loss: 0.0184 - val_accuracy: 1.0000 - val_loss: 8.2706e-04\n",
            "Epoch 17/20\n",
            "\u001b[1m164/164\u001b[0m \u001b[32m━━━━━━━━━━━━━━━━━━━━\u001b[0m\u001b[37m\u001b[0m \u001b[1m1s\u001b[0m 5ms/step - accuracy: 0.9925 - loss: 0.0228 - val_accuracy: 1.0000 - val_loss: 8.0437e-04\n",
            "Epoch 18/20\n",
            "\u001b[1m164/164\u001b[0m \u001b[32m━━━━━━━━━━━━━━━━━━━━\u001b[0m\u001b[37m\u001b[0m \u001b[1m1s\u001b[0m 4ms/step - accuracy: 0.9938 - loss: 0.0168 - val_accuracy: 1.0000 - val_loss: 9.9920e-04\n",
            "Epoch 19/20\n",
            "\u001b[1m164/164\u001b[0m \u001b[32m━━━━━━━━━━━━━━━━━━━━\u001b[0m\u001b[37m\u001b[0m \u001b[1m1s\u001b[0m 3ms/step - accuracy: 0.9954 - loss: 0.0137 - val_accuracy: 1.0000 - val_loss: 8.5050e-04\n",
            "Epoch 20/20\n",
            "\u001b[1m164/164\u001b[0m \u001b[32m━━━━━━━━━━━━━━━━━━━━\u001b[0m\u001b[37m\u001b[0m \u001b[1m1s\u001b[0m 4ms/step - accuracy: 0.9950 - loss: 0.0137 - val_accuracy: 1.0000 - val_loss: 4.6361e-04\n",
            "\u001b[1m52/52\u001b[0m \u001b[32m━━━━━━━━━━━━━━━━━━━━\u001b[0m\u001b[37m\u001b[0m \u001b[1m0s\u001b[0m 3ms/step\n",
            "\u001b[1m52/52\u001b[0m \u001b[32m━━━━━━━━━━━━━━━━━━━━\u001b[0m\u001b[37m\u001b[0m \u001b[1m0s\u001b[0m 2ms/step - accuracy: 1.0000 - loss: 4.8393e-04\n",
            "Test loss: 0.0005414059851318598\n",
            "Test accuracy: 1.0\n",
            "Sensitivity (Recall): 1.0\n",
            "Specificity: 1.0\n",
            "F1 Score: 1.0\n"
          ]
        }
      ]
    },
    {
      "cell_type": "markdown",
      "source": [
        "Classification B vs. D"
      ],
      "metadata": {
        "id": "4E3OV4LVX9dw"
      }
    },
    {
      "cell_type": "code",
      "source": [
        "# Load and preprocess data for classes B vs. D\n",
        "classes_b = ['B']\n",
        "classes_d = ['D']\n",
        "\n",
        "X_b, y_b = prepare_data_for_classification(classes_b)\n",
        "X_d, y_d = prepare_data_for_classification(classes_d)\n",
        "\n",
        "# Merge and create new labels\n",
        "X = np.concatenate([X_b, X_d])\n",
        "y = np.concatenate([np.zeros(len(y_b)), np.ones(len(y_d))])  # 0 for B, 1 for D\n",
        "\n",
        "# Normalize the features\n",
        "scaler = StandardScaler()\n",
        "X = scaler.fit_transform(X)\n",
        "\n",
        "# Encode labels\n",
        "y = y.astype(int)\n",
        "y = np.eye(len(np.unique(y)))[y]  # One-hot encode the labels\n",
        "\n",
        "# Split the data\n",
        "X_train, X_test, y_train, y_test = train_test_split(X, y, test_size=0.2, random_state=42)\n",
        "\n",
        "# Train and evaluate the ANN model\n",
        "train_and_evaluate_ann_model(X_train, y_train, X_test, y_test, dense_units1=128, dense_units2=64, dropout_rate=0.5, batch_size=32, epochs=20)\n"
      ],
      "metadata": {
        "colab": {
          "base_uri": "https://localhost:8080/"
        },
        "id": "b_AjYPK1X3-E",
        "outputId": "9acfffc8-43a0-4937-8097-26e14e09fbac"
      },
      "execution_count": null,
      "outputs": [
        {
          "output_type": "stream",
          "name": "stdout",
          "text": [
            "Epoch 1/20\n"
          ]
        },
        {
          "output_type": "stream",
          "name": "stderr",
          "text": [
            "/usr/local/lib/python3.10/dist-packages/keras/src/layers/core/dense.py:87: UserWarning: Do not pass an `input_shape`/`input_dim` argument to a layer. When using Sequential models, prefer using an `Input(shape)` object as the first layer in the model instead.\n",
            "  super().__init__(activity_regularizer=activity_regularizer, **kwargs)\n"
          ]
        },
        {
          "output_type": "stream",
          "name": "stdout",
          "text": [
            "\u001b[1m164/164\u001b[0m \u001b[32m━━━━━━━━━━━━━━━━━━━━\u001b[0m\u001b[37m\u001b[0m \u001b[1m3s\u001b[0m 4ms/step - accuracy: 0.5853 - loss: 0.7436 - val_accuracy: 0.9947 - val_loss: 0.2321\n",
            "Epoch 2/20\n",
            "\u001b[1m164/164\u001b[0m \u001b[32m━━━━━━━━━━━━━━━━━━━━\u001b[0m\u001b[37m\u001b[0m \u001b[1m1s\u001b[0m 3ms/step - accuracy: 0.9603 - loss: 0.2226 - val_accuracy: 1.0000 - val_loss: 0.0344\n",
            "Epoch 3/20\n",
            "\u001b[1m164/164\u001b[0m \u001b[32m━━━━━━━━━━━━━━━━━━━━\u001b[0m\u001b[37m\u001b[0m \u001b[1m1s\u001b[0m 4ms/step - accuracy: 0.9913 - loss: 0.0617 - val_accuracy: 1.0000 - val_loss: 0.0090\n",
            "Epoch 4/20\n",
            "\u001b[1m164/164\u001b[0m \u001b[32m━━━━━━━━━━━━━━━━━━━━\u001b[0m\u001b[37m\u001b[0m \u001b[1m1s\u001b[0m 7ms/step - accuracy: 0.9962 - loss: 0.0299 - val_accuracy: 1.0000 - val_loss: 0.0033\n",
            "Epoch 5/20\n",
            "\u001b[1m164/164\u001b[0m \u001b[32m━━━━━━━━━━━━━━━━━━━━\u001b[0m\u001b[37m\u001b[0m \u001b[1m3s\u001b[0m 8ms/step - accuracy: 0.9989 - loss: 0.0113 - val_accuracy: 1.0000 - val_loss: 0.0019\n",
            "Epoch 6/20\n",
            "\u001b[1m164/164\u001b[0m \u001b[32m━━━━━━━━━━━━━━━━━━━━\u001b[0m\u001b[37m\u001b[0m \u001b[1m2s\u001b[0m 5ms/step - accuracy: 0.9998 - loss: 0.0072 - val_accuracy: 1.0000 - val_loss: 0.0012\n",
            "Epoch 7/20\n",
            "\u001b[1m164/164\u001b[0m \u001b[32m━━━━━━━━━━━━━━━━━━━━\u001b[0m\u001b[37m\u001b[0m \u001b[1m1s\u001b[0m 4ms/step - accuracy: 1.0000 - loss: 0.0038 - val_accuracy: 1.0000 - val_loss: 5.9307e-04\n",
            "Epoch 8/20\n",
            "\u001b[1m164/164\u001b[0m \u001b[32m━━━━━━━━━━━━━━━━━━━━\u001b[0m\u001b[37m\u001b[0m \u001b[1m1s\u001b[0m 4ms/step - accuracy: 0.9998 - loss: 0.0035 - val_accuracy: 1.0000 - val_loss: 5.5794e-04\n",
            "Epoch 9/20\n",
            "\u001b[1m164/164\u001b[0m \u001b[32m━━━━━━━━━━━━━━━━━━━━\u001b[0m\u001b[37m\u001b[0m \u001b[1m1s\u001b[0m 4ms/step - accuracy: 1.0000 - loss: 0.0028 - val_accuracy: 1.0000 - val_loss: 3.0718e-04\n",
            "Epoch 10/20\n",
            "\u001b[1m164/164\u001b[0m \u001b[32m━━━━━━━━━━━━━━━━━━━━\u001b[0m\u001b[37m\u001b[0m \u001b[1m1s\u001b[0m 3ms/step - accuracy: 1.0000 - loss: 0.0025 - val_accuracy: 1.0000 - val_loss: 2.3606e-04\n",
            "Epoch 11/20\n",
            "\u001b[1m164/164\u001b[0m \u001b[32m━━━━━━━━━━━━━━━━━━━━\u001b[0m\u001b[37m\u001b[0m \u001b[1m1s\u001b[0m 4ms/step - accuracy: 1.0000 - loss: 0.0014 - val_accuracy: 1.0000 - val_loss: 1.8531e-04\n",
            "Epoch 12/20\n",
            "\u001b[1m164/164\u001b[0m \u001b[32m━━━━━━━━━━━━━━━━━━━━\u001b[0m\u001b[37m\u001b[0m \u001b[1m1s\u001b[0m 4ms/step - accuracy: 0.9999 - loss: 0.0021 - val_accuracy: 1.0000 - val_loss: 1.5707e-04\n",
            "Epoch 13/20\n",
            "\u001b[1m164/164\u001b[0m \u001b[32m━━━━━━━━━━━━━━━━━━━━\u001b[0m\u001b[37m\u001b[0m \u001b[1m1s\u001b[0m 4ms/step - accuracy: 0.9997 - loss: 0.0013 - val_accuracy: 1.0000 - val_loss: 1.1256e-04\n",
            "Epoch 14/20\n",
            "\u001b[1m164/164\u001b[0m \u001b[32m━━━━━━━━━━━━━━━━━━━━\u001b[0m\u001b[37m\u001b[0m \u001b[1m1s\u001b[0m 5ms/step - accuracy: 1.0000 - loss: 9.9977e-04 - val_accuracy: 1.0000 - val_loss: 8.7431e-05\n",
            "Epoch 15/20\n",
            "\u001b[1m164/164\u001b[0m \u001b[32m━━━━━━━━━━━━━━━━━━━━\u001b[0m\u001b[37m\u001b[0m \u001b[1m1s\u001b[0m 4ms/step - accuracy: 0.9994 - loss: 0.0017 - val_accuracy: 1.0000 - val_loss: 9.0694e-05\n",
            "Epoch 16/20\n",
            "\u001b[1m164/164\u001b[0m \u001b[32m━━━━━━━━━━━━━━━━━━━━\u001b[0m\u001b[37m\u001b[0m \u001b[1m1s\u001b[0m 4ms/step - accuracy: 0.9999 - loss: 8.7561e-04 - val_accuracy: 1.0000 - val_loss: 1.3135e-04\n",
            "Epoch 17/20\n",
            "\u001b[1m164/164\u001b[0m \u001b[32m━━━━━━━━━━━━━━━━━━━━\u001b[0m\u001b[37m\u001b[0m \u001b[1m1s\u001b[0m 4ms/step - accuracy: 0.9997 - loss: 0.0012 - val_accuracy: 1.0000 - val_loss: 7.0521e-05\n",
            "Epoch 18/20\n",
            "\u001b[1m164/164\u001b[0m \u001b[32m━━━━━━━━━━━━━━━━━━━━\u001b[0m\u001b[37m\u001b[0m \u001b[1m1s\u001b[0m 4ms/step - accuracy: 1.0000 - loss: 5.3604e-04 - val_accuracy: 1.0000 - val_loss: 4.1446e-05\n",
            "Epoch 19/20\n",
            "\u001b[1m164/164\u001b[0m \u001b[32m━━━━━━━━━━━━━━━━━━━━\u001b[0m\u001b[37m\u001b[0m \u001b[1m1s\u001b[0m 2ms/step - accuracy: 0.9999 - loss: 4.5995e-04 - val_accuracy: 1.0000 - val_loss: 4.2248e-05\n",
            "Epoch 20/20\n",
            "\u001b[1m164/164\u001b[0m \u001b[32m━━━━━━━━━━━━━━━━━━━━\u001b[0m\u001b[37m\u001b[0m \u001b[1m1s\u001b[0m 2ms/step - accuracy: 0.9999 - loss: 5.1339e-04 - val_accuracy: 1.0000 - val_loss: 4.6105e-05\n",
            "\u001b[1m52/52\u001b[0m \u001b[32m━━━━━━━━━━━━━━━━━━━━\u001b[0m\u001b[37m\u001b[0m \u001b[1m0s\u001b[0m 2ms/step\n",
            "\u001b[1m52/52\u001b[0m \u001b[32m━━━━━━━━━━━━━━━━━━━━\u001b[0m\u001b[37m\u001b[0m \u001b[1m0s\u001b[0m 2ms/step - accuracy: 1.0000 - loss: 5.5020e-05\n",
            "Test loss: 5.964360389043577e-05\n",
            "Test accuracy: 1.0\n",
            "Sensitivity (Recall): 1.0\n",
            "Specificity: 1.0\n",
            "F1 Score: 1.0\n"
          ]
        }
      ]
    },
    {
      "cell_type": "markdown",
      "source": [
        "Classification A vs. C"
      ],
      "metadata": {
        "id": "njGvrLvkYEWF"
      }
    },
    {
      "cell_type": "code",
      "source": [
        "# Load and preprocess data for classes A vs. C\n",
        "classes_a = ['A']\n",
        "classes_c = ['C']\n",
        "\n",
        "X_a, y_a = prepare_data_for_classification(classes_a)\n",
        "X_c, y_c = prepare_data_for_classification(classes_c)\n",
        "\n",
        "# Merge and create new labels\n",
        "X = np.concatenate([X_a, X_c])\n",
        "y = np.concatenate([np.zeros(len(y_a)), np.ones(len(y_c))])  # 0 for A, 1 for C\n",
        "\n",
        "# Normalize the features\n",
        "scaler = StandardScaler()\n",
        "X = scaler.fit_transform(X)\n",
        "\n",
        "# Encode labels\n",
        "y = y.astype(int)\n",
        "y = np.eye(len(np.unique(y)))[y]  # One-hot encode the labels\n",
        "\n",
        "# Split the data\n",
        "X_train, X_test, y_train, y_test = train_test_split(X, y, test_size=0.2, random_state=42)\n",
        "\n",
        "# Train and evaluate the ANN model\n",
        "train_and_evaluate_ann_model(X_train, y_train, X_test, y_test, dense_units1=128, dense_units2=64, dropout_rate=0.5, batch_size=32, epochs=20)\n"
      ],
      "metadata": {
        "colab": {
          "base_uri": "https://localhost:8080/"
        },
        "id": "LomhgHWwYBLg",
        "outputId": "37b47c4d-9b1b-4312-81bb-4ced39bfa34a"
      },
      "execution_count": null,
      "outputs": [
        {
          "output_type": "stream",
          "name": "stdout",
          "text": [
            "Epoch 1/20\n"
          ]
        },
        {
          "output_type": "stream",
          "name": "stderr",
          "text": [
            "/usr/local/lib/python3.10/dist-packages/keras/src/layers/core/dense.py:87: UserWarning: Do not pass an `input_shape`/`input_dim` argument to a layer. When using Sequential models, prefer using an `Input(shape)` object as the first layer in the model instead.\n",
            "  super().__init__(activity_regularizer=activity_regularizer, **kwargs)\n"
          ]
        },
        {
          "output_type": "stream",
          "name": "stdout",
          "text": [
            "\u001b[1m164/164\u001b[0m \u001b[32m━━━━━━━━━━━━━━━━━━━━\u001b[0m\u001b[37m\u001b[0m \u001b[1m3s\u001b[0m 8ms/step - accuracy: 0.5501 - loss: 0.7931 - val_accuracy: 0.8825 - val_loss: 0.5062\n",
            "Epoch 2/20\n",
            "\u001b[1m164/164\u001b[0m \u001b[32m━━━━━━━━━━━━━━━━━━━━\u001b[0m\u001b[37m\u001b[0m \u001b[1m1s\u001b[0m 4ms/step - accuracy: 0.7238 - loss: 0.5421 - val_accuracy: 0.9771 - val_loss: 0.2863\n",
            "Epoch 3/20\n",
            "\u001b[1m164/164\u001b[0m \u001b[32m━━━━━━━━━━━━━━━━━━━━\u001b[0m\u001b[37m\u001b[0m \u001b[1m1s\u001b[0m 4ms/step - accuracy: 0.8535 - loss: 0.3496 - val_accuracy: 0.9901 - val_loss: 0.1103\n",
            "Epoch 4/20\n",
            "\u001b[1m164/164\u001b[0m \u001b[32m━━━━━━━━━━━━━━━━━━━━\u001b[0m\u001b[37m\u001b[0m \u001b[1m1s\u001b[0m 4ms/step - accuracy: 0.9373 - loss: 0.1837 - val_accuracy: 0.9985 - val_loss: 0.0362\n",
            "Epoch 5/20\n",
            "\u001b[1m164/164\u001b[0m \u001b[32m━━━━━━━━━━━━━━━━━━━━\u001b[0m\u001b[37m\u001b[0m \u001b[1m1s\u001b[0m 4ms/step - accuracy: 0.9690 - loss: 0.1055 - val_accuracy: 1.0000 - val_loss: 0.0159\n",
            "Epoch 6/20\n",
            "\u001b[1m164/164\u001b[0m \u001b[32m━━━━━━━━━━━━━━━━━━━━\u001b[0m\u001b[37m\u001b[0m \u001b[1m1s\u001b[0m 3ms/step - accuracy: 0.9769 - loss: 0.0704 - val_accuracy: 1.0000 - val_loss: 0.0077\n",
            "Epoch 7/20\n",
            "\u001b[1m164/164\u001b[0m \u001b[32m━━━━━━━━━━━━━━━━━━━━\u001b[0m\u001b[37m\u001b[0m \u001b[1m0s\u001b[0m 2ms/step - accuracy: 0.9853 - loss: 0.0498 - val_accuracy: 1.0000 - val_loss: 0.0049\n",
            "Epoch 8/20\n",
            "\u001b[1m164/164\u001b[0m \u001b[32m━━━━━━━━━━━━━━━━━━━━\u001b[0m\u001b[37m\u001b[0m \u001b[1m1s\u001b[0m 4ms/step - accuracy: 0.9928 - loss: 0.0308 - val_accuracy: 1.0000 - val_loss: 0.0045\n",
            "Epoch 9/20\n",
            "\u001b[1m164/164\u001b[0m \u001b[32m━━━━━━━━━━━━━━━━━━━━\u001b[0m\u001b[37m\u001b[0m \u001b[1m1s\u001b[0m 4ms/step - accuracy: 0.9922 - loss: 0.0290 - val_accuracy: 1.0000 - val_loss: 0.0031\n",
            "Epoch 10/20\n",
            "\u001b[1m164/164\u001b[0m \u001b[32m━━━━━━━━━━━━━━━━━━━━\u001b[0m\u001b[37m\u001b[0m \u001b[1m1s\u001b[0m 4ms/step - accuracy: 0.9941 - loss: 0.0255 - val_accuracy: 1.0000 - val_loss: 0.0021\n",
            "Epoch 11/20\n",
            "\u001b[1m164/164\u001b[0m \u001b[32m━━━━━━━━━━━━━━━━━━━━\u001b[0m\u001b[37m\u001b[0m \u001b[1m1s\u001b[0m 5ms/step - accuracy: 0.9902 - loss: 0.0295 - val_accuracy: 1.0000 - val_loss: 0.0019\n",
            "Epoch 12/20\n",
            "\u001b[1m164/164\u001b[0m \u001b[32m━━━━━━━━━━━━━━━━━━━━\u001b[0m\u001b[37m\u001b[0m \u001b[1m1s\u001b[0m 3ms/step - accuracy: 0.9938 - loss: 0.0182 - val_accuracy: 1.0000 - val_loss: 0.0018\n",
            "Epoch 13/20\n",
            "\u001b[1m164/164\u001b[0m \u001b[32m━━━━━━━━━━━━━━━━━━━━\u001b[0m\u001b[37m\u001b[0m \u001b[1m1s\u001b[0m 4ms/step - accuracy: 0.9963 - loss: 0.0146 - val_accuracy: 1.0000 - val_loss: 9.7746e-04\n",
            "Epoch 14/20\n",
            "\u001b[1m164/164\u001b[0m \u001b[32m━━━━━━━━━━━━━━━━━━━━\u001b[0m\u001b[37m\u001b[0m \u001b[1m1s\u001b[0m 3ms/step - accuracy: 0.9969 - loss: 0.0133 - val_accuracy: 1.0000 - val_loss: 0.0010\n",
            "Epoch 15/20\n",
            "\u001b[1m164/164\u001b[0m \u001b[32m━━━━━━━━━━━━━━━━━━━━\u001b[0m\u001b[37m\u001b[0m \u001b[1m1s\u001b[0m 4ms/step - accuracy: 0.9954 - loss: 0.0220 - val_accuracy: 1.0000 - val_loss: 6.6159e-04\n",
            "Epoch 16/20\n",
            "\u001b[1m164/164\u001b[0m \u001b[32m━━━━━━━━━━━━━━━━━━━━\u001b[0m\u001b[37m\u001b[0m \u001b[1m1s\u001b[0m 2ms/step - accuracy: 0.9967 - loss: 0.0125 - val_accuracy: 1.0000 - val_loss: 7.6361e-04\n",
            "Epoch 17/20\n",
            "\u001b[1m164/164\u001b[0m \u001b[32m━━━━━━━━━━━━━━━━━━━━\u001b[0m\u001b[37m\u001b[0m \u001b[1m0s\u001b[0m 2ms/step - accuracy: 0.9981 - loss: 0.0073 - val_accuracy: 1.0000 - val_loss: 6.2868e-04\n",
            "Epoch 18/20\n",
            "\u001b[1m164/164\u001b[0m \u001b[32m━━━━━━━━━━━━━━━━━━━━\u001b[0m\u001b[37m\u001b[0m \u001b[1m1s\u001b[0m 2ms/step - accuracy: 0.9967 - loss: 0.0080 - val_accuracy: 1.0000 - val_loss: 4.8360e-04\n",
            "Epoch 19/20\n",
            "\u001b[1m164/164\u001b[0m \u001b[32m━━━━━━━━━━━━━━━━━━━━\u001b[0m\u001b[37m\u001b[0m \u001b[1m1s\u001b[0m 2ms/step - accuracy: 0.9981 - loss: 0.0078 - val_accuracy: 1.0000 - val_loss: 3.3743e-04\n",
            "Epoch 20/20\n",
            "\u001b[1m164/164\u001b[0m \u001b[32m━━━━━━━━━━━━━━━━━━━━\u001b[0m\u001b[37m\u001b[0m \u001b[1m1s\u001b[0m 2ms/step - accuracy: 0.9983 - loss: 0.0127 - val_accuracy: 1.0000 - val_loss: 4.7304e-04\n",
            "\u001b[1m52/52\u001b[0m \u001b[32m━━━━━━━━━━━━━━━━━━━━\u001b[0m\u001b[37m\u001b[0m \u001b[1m0s\u001b[0m 2ms/step\n",
            "\u001b[1m52/52\u001b[0m \u001b[32m━━━━━━━━━━━━━━━━━━━━\u001b[0m\u001b[37m\u001b[0m \u001b[1m0s\u001b[0m 1ms/step - accuracy: 0.9994 - loss: 8.5871e-04\n",
            "Test loss: 0.0014225344639271498\n",
            "Test accuracy: 0.9987797437461867\n",
            "Sensitivity (Recall): 0.9988095238095238\n",
            "Specificity: 0.9988095238095238\n",
            "F1 Score: 0.998779052443385\n"
          ]
        }
      ]
    },
    {
      "cell_type": "markdown",
      "source": [
        "Classification C vs. E"
      ],
      "metadata": {
        "id": "AuaX84ZCYKlT"
      }
    },
    {
      "cell_type": "code",
      "source": [
        "# Load and preprocess data for classes C vs. E\n",
        "classes_c = ['C']\n",
        "classes_e = ['E']\n",
        "\n",
        "X_c, y_c = prepare_data_for_classification(classes_c)\n",
        "X_e, y_e = prepare_data_for_classification(classes_e)\n",
        "\n",
        "# Merge and create new labels\n",
        "X = np.concatenate([X_c, X_e])\n",
        "y = np.concatenate([np.zeros(len(y_c)), np.ones(len(y_e))])  # 0 for C, 1 for E\n",
        "\n",
        "# Normalize the features\n",
        "scaler = StandardScaler()\n",
        "X = scaler.fit_transform(X)\n",
        "\n",
        "# Encode labels\n",
        "y = y.astype(int)\n",
        "y = np.eye(len(np.unique(y)))[y]  # One-hot encode the labels\n",
        "\n",
        "# Split the data\n",
        "X_train, X_test, y_train, y_test = train_test_split(X, y, test_size=0.2, random_state=42)\n",
        "\n",
        "# Train and evaluate the ANN model\n",
        "train_and_evaluate_ann_model(X_train, y_train, X_test, y_test, dense_units1=128, dense_units2=64, dropout_rate=0.5, batch_size=32, epochs=20)\n"
      ],
      "metadata": {
        "colab": {
          "base_uri": "https://localhost:8080/"
        },
        "id": "BhM9gLiqYFsc",
        "outputId": "c336abbb-7e74-44f0-9b46-08669d42df46"
      },
      "execution_count": null,
      "outputs": [
        {
          "output_type": "stream",
          "name": "stdout",
          "text": [
            "Epoch 1/20\n"
          ]
        },
        {
          "output_type": "stream",
          "name": "stderr",
          "text": [
            "/usr/local/lib/python3.10/dist-packages/keras/src/layers/core/dense.py:87: UserWarning: Do not pass an `input_shape`/`input_dim` argument to a layer. When using Sequential models, prefer using an `Input(shape)` object as the first layer in the model instead.\n",
            "  super().__init__(activity_regularizer=activity_regularizer, **kwargs)\n"
          ]
        },
        {
          "output_type": "stream",
          "name": "stdout",
          "text": [
            "\u001b[1m164/164\u001b[0m \u001b[32m━━━━━━━━━━━━━━━━━━━━\u001b[0m\u001b[37m\u001b[0m \u001b[1m2s\u001b[0m 3ms/step - accuracy: 0.5100 - loss: 0.8842 - val_accuracy: 0.7368 - val_loss: 0.6271\n",
            "Epoch 2/20\n",
            "\u001b[1m164/164\u001b[0m \u001b[32m━━━━━━━━━━━━━━━━━━━━\u001b[0m\u001b[37m\u001b[0m \u001b[1m0s\u001b[0m 2ms/step - accuracy: 0.6006 - loss: 0.6525 - val_accuracy: 0.8696 - val_loss: 0.5618\n",
            "Epoch 3/20\n",
            "\u001b[1m164/164\u001b[0m \u001b[32m━━━━━━━━━━━━━━━━━━━━\u001b[0m\u001b[37m\u001b[0m \u001b[1m0s\u001b[0m 2ms/step - accuracy: 0.6996 - loss: 0.5645 - val_accuracy: 0.9481 - val_loss: 0.4082\n",
            "Epoch 4/20\n",
            "\u001b[1m164/164\u001b[0m \u001b[32m━━━━━━━━━━━━━━━━━━━━\u001b[0m\u001b[37m\u001b[0m \u001b[1m1s\u001b[0m 2ms/step - accuracy: 0.7969 - loss: 0.4473 - val_accuracy: 0.9817 - val_loss: 0.2305\n",
            "Epoch 5/20\n",
            "\u001b[1m164/164\u001b[0m \u001b[32m━━━━━━━━━━━━━━━━━━━━\u001b[0m\u001b[37m\u001b[0m \u001b[1m1s\u001b[0m 2ms/step - accuracy: 0.8660 - loss: 0.3150 - val_accuracy: 0.9901 - val_loss: 0.1202\n",
            "Epoch 6/20\n",
            "\u001b[1m164/164\u001b[0m \u001b[32m━━━━━━━━━━━━━━━━━━━━\u001b[0m\u001b[37m\u001b[0m \u001b[1m1s\u001b[0m 2ms/step - accuracy: 0.9174 - loss: 0.2201 - val_accuracy: 0.9947 - val_loss: 0.0645\n",
            "Epoch 7/20\n",
            "\u001b[1m164/164\u001b[0m \u001b[32m━━━━━━━━━━━━━━━━━━━━\u001b[0m\u001b[37m\u001b[0m \u001b[1m0s\u001b[0m 2ms/step - accuracy: 0.9407 - loss: 0.1578 - val_accuracy: 0.9962 - val_loss: 0.0354\n",
            "Epoch 8/20\n",
            "\u001b[1m164/164\u001b[0m \u001b[32m━━━━━━━━━━━━━━━━━━━━\u001b[0m\u001b[37m\u001b[0m \u001b[1m1s\u001b[0m 2ms/step - accuracy: 0.9624 - loss: 0.1115 - val_accuracy: 0.9992 - val_loss: 0.0218\n",
            "Epoch 9/20\n",
            "\u001b[1m164/164\u001b[0m \u001b[32m━━━━━━━━━━━━━━━━━━━━\u001b[0m\u001b[37m\u001b[0m \u001b[1m1s\u001b[0m 4ms/step - accuracy: 0.9705 - loss: 0.0827 - val_accuracy: 0.9992 - val_loss: 0.0143\n",
            "Epoch 10/20\n",
            "\u001b[1m164/164\u001b[0m \u001b[32m━━━━━━━━━━━━━━━━━━━━\u001b[0m\u001b[37m\u001b[0m \u001b[1m1s\u001b[0m 4ms/step - accuracy: 0.9740 - loss: 0.0731 - val_accuracy: 0.9992 - val_loss: 0.0126\n",
            "Epoch 11/20\n",
            "\u001b[1m164/164\u001b[0m \u001b[32m━━━━━━━━━━━━━━━━━━━━\u001b[0m\u001b[37m\u001b[0m \u001b[1m1s\u001b[0m 4ms/step - accuracy: 0.9799 - loss: 0.0630 - val_accuracy: 0.9985 - val_loss: 0.0120\n",
            "Epoch 12/20\n",
            "\u001b[1m164/164\u001b[0m \u001b[32m━━━━━━━━━━━━━━━━━━━━\u001b[0m\u001b[37m\u001b[0m \u001b[1m1s\u001b[0m 4ms/step - accuracy: 0.9821 - loss: 0.0521 - val_accuracy: 0.9977 - val_loss: 0.0104\n",
            "Epoch 13/20\n",
            "\u001b[1m164/164\u001b[0m \u001b[32m━━━━━━━━━━━━━━━━━━━━\u001b[0m\u001b[37m\u001b[0m \u001b[1m1s\u001b[0m 3ms/step - accuracy: 0.9855 - loss: 0.0454 - val_accuracy: 0.9985 - val_loss: 0.0101\n",
            "Epoch 14/20\n",
            "\u001b[1m164/164\u001b[0m \u001b[32m━━━━━━━━━━━━━━━━━━━━\u001b[0m\u001b[37m\u001b[0m \u001b[1m0s\u001b[0m 2ms/step - accuracy: 0.9851 - loss: 0.0442 - val_accuracy: 0.9985 - val_loss: 0.0083\n",
            "Epoch 15/20\n",
            "\u001b[1m164/164\u001b[0m \u001b[32m━━━━━━━━━━━━━━━━━━━━\u001b[0m\u001b[37m\u001b[0m \u001b[1m1s\u001b[0m 2ms/step - accuracy: 0.9901 - loss: 0.0298 - val_accuracy: 0.9985 - val_loss: 0.0071\n",
            "Epoch 16/20\n",
            "\u001b[1m164/164\u001b[0m \u001b[32m━━━━━━━━━━━━━━━━━━━━\u001b[0m\u001b[37m\u001b[0m \u001b[1m1s\u001b[0m 2ms/step - accuracy: 0.9888 - loss: 0.0312 - val_accuracy: 0.9977 - val_loss: 0.0083\n",
            "Epoch 17/20\n",
            "\u001b[1m164/164\u001b[0m \u001b[32m━━━━━━━━━━━━━━━━━━━━\u001b[0m\u001b[37m\u001b[0m \u001b[1m1s\u001b[0m 2ms/step - accuracy: 0.9901 - loss: 0.0285 - val_accuracy: 0.9977 - val_loss: 0.0082\n",
            "Epoch 18/20\n",
            "\u001b[1m164/164\u001b[0m \u001b[32m━━━━━━━━━━━━━━━━━━━━\u001b[0m\u001b[37m\u001b[0m \u001b[1m1s\u001b[0m 2ms/step - accuracy: 0.9938 - loss: 0.0211 - val_accuracy: 0.9985 - val_loss: 0.0052\n",
            "Epoch 19/20\n",
            "\u001b[1m164/164\u001b[0m \u001b[32m━━━━━━━━━━━━━━━━━━━━\u001b[0m\u001b[37m\u001b[0m \u001b[1m0s\u001b[0m 2ms/step - accuracy: 0.9944 - loss: 0.0225 - val_accuracy: 0.9992 - val_loss: 0.0036\n",
            "Epoch 20/20\n",
            "\u001b[1m164/164\u001b[0m \u001b[32m━━━━━━━━━━━━━━━━━━━━\u001b[0m\u001b[37m\u001b[0m \u001b[1m0s\u001b[0m 3ms/step - accuracy: 0.9914 - loss: 0.0215 - val_accuracy: 0.9992 - val_loss: 0.0042\n",
            "\u001b[1m52/52\u001b[0m \u001b[32m━━━━━━━━━━━━━━━━━━━━\u001b[0m\u001b[37m\u001b[0m \u001b[1m0s\u001b[0m 2ms/step\n",
            "\u001b[1m52/52\u001b[0m \u001b[32m━━━━━━━━━━━━━━━━━━━━\u001b[0m\u001b[37m\u001b[0m \u001b[1m0s\u001b[0m 1ms/step - accuracy: 1.0000 - loss: 0.0022\n",
            "Test loss: 0.0026288938242942095\n",
            "Test accuracy: 1.0\n",
            "Sensitivity (Recall): 1.0\n",
            "Specificity: 1.0\n",
            "F1 Score: 1.0\n"
          ]
        }
      ]
    },
    {
      "cell_type": "code",
      "source": [],
      "metadata": {
        "id": "eapyIeLZYH4z"
      },
      "execution_count": null,
      "outputs": []
    }
  ]
}